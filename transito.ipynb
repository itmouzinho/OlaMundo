{
 "cells": [
  {
   "cell_type": "code",
   "execution_count": 1,
   "id": "265a15eb-29c8-473b-bc16-3baa8be5e0fe",
   "metadata": {},
   "outputs": [],
   "source": [
    "import pandas as pd\n",
    "import seaborn as srn\n",
    "import statistics  as sts"
   ]
  },
  {
   "cell_type": "code",
   "execution_count": 2,
   "id": "24f9feed-9b44-4012-8256-776d2832b8bb",
   "metadata": {},
   "outputs": [
    {
     "data": {
      "text/html": [
       "<div>\n",
       "<style scoped>\n",
       "    .dataframe tbody tr th:only-of-type {\n",
       "        vertical-align: middle;\n",
       "    }\n",
       "\n",
       "    .dataframe tbody tr th {\n",
       "        vertical-align: top;\n",
       "    }\n",
       "\n",
       "    .dataframe thead th {\n",
       "        text-align: right;\n",
       "    }\n",
       "</style>\n",
       "<table border=\"1\" class=\"dataframe\">\n",
       "  <thead>\n",
       "    <tr style=\"text-align: right;\">\n",
       "      <th></th>\n",
       "      <th>data</th>\n",
       "      <th>hora</th>\n",
       "      <th>natureza_acidente</th>\n",
       "      <th>situacao</th>\n",
       "      <th>bairro</th>\n",
       "      <th>tipo</th>\n",
       "      <th>auto</th>\n",
       "      <th>moto</th>\n",
       "      <th>ciclom</th>\n",
       "      <th>ciclista</th>\n",
       "      <th>pedestre</th>\n",
       "      <th>onibus</th>\n",
       "      <th>caminhao</th>\n",
       "      <th>viatura</th>\n",
       "      <th>outros</th>\n",
       "      <th>vitimas</th>\n",
       "      <th>vitimasfatais</th>\n",
       "    </tr>\n",
       "  </thead>\n",
       "  <tbody>\n",
       "    <tr>\n",
       "      <th>0</th>\n",
       "      <td>01/01/2016</td>\n",
       "      <td>00,58,00</td>\n",
       "      <td>SEM V�TIMA</td>\n",
       "      <td>FINALIZADA</td>\n",
       "      <td>IPUTINGA</td>\n",
       "      <td>COLIS�O</td>\n",
       "      <td>1</td>\n",
       "      <td>0</td>\n",
       "      <td>0</td>\n",
       "      <td>0</td>\n",
       "      <td>0</td>\n",
       "      <td>0</td>\n",
       "      <td>1</td>\n",
       "      <td>0</td>\n",
       "      <td>0</td>\n",
       "      <td>0</td>\n",
       "      <td>0</td>\n",
       "    </tr>\n",
       "    <tr>\n",
       "      <th>1</th>\n",
       "      <td>01/01/2016</td>\n",
       "      <td>01,23,00</td>\n",
       "      <td>SEM V�TIMA</td>\n",
       "      <td>FINALIZADA</td>\n",
       "      <td>BOA VIAGEM</td>\n",
       "      <td>COLIS�O</td>\n",
       "      <td>2</td>\n",
       "      <td>0</td>\n",
       "      <td>0</td>\n",
       "      <td>0</td>\n",
       "      <td>0</td>\n",
       "      <td>0</td>\n",
       "      <td>0</td>\n",
       "      <td>0</td>\n",
       "      <td>0</td>\n",
       "      <td>0</td>\n",
       "      <td>0</td>\n",
       "    </tr>\n",
       "    <tr>\n",
       "      <th>2</th>\n",
       "      <td>01/01/2016</td>\n",
       "      <td>01,42,00</td>\n",
       "      <td>SEM V�TIMA</td>\n",
       "      <td>CANCELADA</td>\n",
       "      <td>JORDAO</td>\n",
       "      <td>COLIS�O</td>\n",
       "      <td>2</td>\n",
       "      <td>0</td>\n",
       "      <td>0</td>\n",
       "      <td>0</td>\n",
       "      <td>0</td>\n",
       "      <td>0</td>\n",
       "      <td>0</td>\n",
       "      <td>0</td>\n",
       "      <td>0</td>\n",
       "      <td>0</td>\n",
       "      <td>0</td>\n",
       "    </tr>\n",
       "    <tr>\n",
       "      <th>3</th>\n",
       "      <td>01/01/2016</td>\n",
       "      <td>03,08,00</td>\n",
       "      <td>SEM V�TIMA</td>\n",
       "      <td>FINALIZADA</td>\n",
       "      <td>IBURA</td>\n",
       "      <td>COLIS�O</td>\n",
       "      <td>2</td>\n",
       "      <td>0</td>\n",
       "      <td>0</td>\n",
       "      <td>0</td>\n",
       "      <td>0</td>\n",
       "      <td>0</td>\n",
       "      <td>0</td>\n",
       "      <td>0</td>\n",
       "      <td>0</td>\n",
       "      <td>0</td>\n",
       "      <td>0</td>\n",
       "    </tr>\n",
       "    <tr>\n",
       "      <th>4</th>\n",
       "      <td>01/01/2016</td>\n",
       "      <td>05,34,00</td>\n",
       "      <td>COM V�TIMA</td>\n",
       "      <td>CANCELADA</td>\n",
       "      <td>PAISSANDU</td>\n",
       "      <td>CHOQUE</td>\n",
       "      <td>0</td>\n",
       "      <td>1</td>\n",
       "      <td>0</td>\n",
       "      <td>0</td>\n",
       "      <td>0</td>\n",
       "      <td>0</td>\n",
       "      <td>0</td>\n",
       "      <td>0</td>\n",
       "      <td>0</td>\n",
       "      <td>1</td>\n",
       "      <td>0</td>\n",
       "    </tr>\n",
       "  </tbody>\n",
       "</table>\n",
       "</div>"
      ],
      "text/plain": [
       "         data      hora natureza_acidente    situacao      bairro     tipo  \\\n",
       "0  01/01/2016  00,58,00        SEM V�TIMA  FINALIZADA    IPUTINGA  COLIS�O   \n",
       "1  01/01/2016  01,23,00        SEM V�TIMA  FINALIZADA  BOA VIAGEM  COLIS�O   \n",
       "2  01/01/2016  01,42,00        SEM V�TIMA   CANCELADA      JORDAO  COLIS�O   \n",
       "3  01/01/2016  03,08,00        SEM V�TIMA  FINALIZADA       IBURA  COLIS�O   \n",
       "4  01/01/2016  05,34,00        COM V�TIMA   CANCELADA   PAISSANDU   CHOQUE   \n",
       "\n",
       "   auto  moto  ciclom  ciclista  pedestre  onibus  caminhao  viatura  outros  \\\n",
       "0     1     0       0         0         0       0         1        0       0   \n",
       "1     2     0       0         0         0       0         0        0       0   \n",
       "2     2     0       0         0         0       0         0        0       0   \n",
       "3     2     0       0         0         0       0         0        0       0   \n",
       "4     0     1       0         0         0       0         0        0       0   \n",
       "\n",
       "   vitimas  vitimasfatais  \n",
       "0        0              0  \n",
       "1        0              0  \n",
       "2        0              0  \n",
       "3        0              0  \n",
       "4        1              0  "
      ]
     },
     "execution_count": 2,
     "metadata": {},
     "output_type": "execute_result"
    }
   ],
   "source": [
    "#importar dados\n",
    "dataset = pd.read_csv(\"transito.csv\", sep=\";\")\n",
    "#visulizar\n",
    "dataset.head()"
   ]
  },
  {
   "cell_type": "code",
   "execution_count": 3,
   "id": "1cba0375-a656-4ac2-90e3-f7f91f6f13d0",
   "metadata": {},
   "outputs": [
    {
     "data": {
      "text/plain": [
       "(50585, 17)"
      ]
     },
     "execution_count": 3,
     "metadata": {},
     "output_type": "execute_result"
    }
   ],
   "source": [
    "#tamanho\n",
    "dataset.shape"
   ]
  },
  {
   "cell_type": "code",
   "execution_count": 4,
   "id": "4c2117c7-73ca-4684-b962-bfbaab92484b",
   "metadata": {},
   "outputs": [
    {
     "data": {
      "text/plain": [
       "natureza_acidente\n",
       "APOIO                  1\n",
       "COM VÍTIMA          8178\n",
       "COM V�TIMA          2146\n",
       "ENTRADA E SAÍDA        1\n",
       "SEM VÍTIMA         30761\n",
       "SEM V�TIMA          8931\n",
       "VÍTIMA FATAL         107\n",
       "V�TIMA FATAL          39\n",
       "dtype: int64"
      ]
     },
     "execution_count": 4,
     "metadata": {},
     "output_type": "execute_result"
    }
   ],
   "source": [
    "#explorar dados categoricos\n",
    "#natureza_acidente\n",
    "dataset.groupby(['natureza_acidente']).size()"
   ]
  },
  {
   "cell_type": "code",
   "execution_count": 5,
   "id": "b792bfe1-d436-4664-a659-7e82e64300e5",
   "metadata": {},
   "outputs": [
    {
     "data": {
      "text/plain": [
       "natureza_acidente\n",
       "APOIO                  1\n",
       "COM VÍTIMA         10324\n",
       "ENTRADA E SAÍDA        1\n",
       "SEM VÍTIMA         39692\n",
       "VÍTIMA FATAL         146\n",
       "dtype: int64"
      ]
     },
     "execution_count": 5,
     "metadata": {},
     "output_type": "execute_result"
    }
   ],
   "source": [
    "#padroniza de acordo com o dominio\n",
    "dataset.loc[dataset['natureza_acidente'] ==  'COM V�TIMA', 'natureza_acidente'] = \"COM VÍTIMA\"\n",
    "dataset.loc[dataset['natureza_acidente'] ==  'SEM V�TIMA', 'natureza_acidente'] = \"SEM VÍTIMA\"\n",
    "dataset.loc[dataset['natureza_acidente'] ==  'V�TIMA FATAL', 'natureza_acidente'] = \"VÍTIMA FATAL\"\n",
    "#visualiza o resultado\n",
    "dataset.groupby(['natureza_acidente']).size()"
   ]
  },
  {
   "cell_type": "code",
   "execution_count": 6,
   "id": "d105caf8-bc08-476b-a356-7c4cd04c540e",
   "metadata": {},
   "outputs": [],
   "source": [
    "dataset.loc[dataset['natureza_acidente'].isin( ['APOIO','ENTRADA E SAÍDA']), 'natureza_acidente'] = \"SEM VÍTIMA\""
   ]
  },
  {
   "cell_type": "code",
   "execution_count": 7,
   "id": "ca7c6428-6c43-455d-b20b-cd52c5ae03de",
   "metadata": {},
   "outputs": [
    {
     "data": {
      "text/plain": [
       "natureza_acidente\n",
       "COM VÍTIMA      10324\n",
       "SEM VÍTIMA      39694\n",
       "VÍTIMA FATAL      146\n",
       "dtype: int64"
      ]
     },
     "execution_count": 7,
     "metadata": {},
     "output_type": "execute_result"
    }
   ],
   "source": [
    "#visualiza o resultado\n",
    "dataset.groupby(['natureza_acidente']).size()"
   ]
  },
  {
   "cell_type": "code",
   "execution_count": 8,
   "id": "0868fdc9-6044-406e-83ed-c7dfb9d85cda",
   "metadata": {},
   "outputs": [
    {
     "data": {
      "text/plain": [
       "421"
      ]
     },
     "execution_count": 8,
     "metadata": {},
     "output_type": "execute_result"
    }
   ],
   "source": [
    "dataset['natureza_acidente'].isnull().sum()"
   ]
  },
  {
   "cell_type": "code",
   "execution_count": 9,
   "id": "7c16481b-7186-4db5-84f1-b4d8721c5f03",
   "metadata": {},
   "outputs": [],
   "source": [
    "dataset['natureza_acidente'].fillna('SEM VÍTIMA', inplace=True)"
   ]
  },
  {
   "cell_type": "code",
   "execution_count": 10,
   "id": "32fd6430-6a23-485a-936f-a98f10591240",
   "metadata": {},
   "outputs": [
    {
     "data": {
      "text/plain": [
       "tipo\n",
       "ABALROAMENTO LONGITUDINAL     5540\n",
       "ABALROAMENTO TRANSVERSAL      2798\n",
       "ACID. DE PERCURSO              163\n",
       "ATROPELAMENTO                 1146\n",
       "ATROPELAMENTO ANIMAL            37\n",
       "CAPOTAMENTO                    111\n",
       "CHOQUE                         830\n",
       "CHOQUE OBJETO FIXO             398\n",
       "CHOQUE VEÍCULO PARADO          571\n",
       "COLISAO                          7\n",
       "COLIS�O                      33214\n",
       "COLIS�O COM CICLISTA           727\n",
       "COLIS�O FRONTAL                432\n",
       "COLIS�O TRASEIRA              3920\n",
       "ENGAVETAMENTO                  572\n",
       "NATUREZA                         1\n",
       "SANTO AMARO                      1\n",
       "SUBURBIO                         1\n",
       "TOMBAMENTO                     112\n",
       "dtype: int64"
      ]
     },
     "execution_count": 10,
     "metadata": {},
     "output_type": "execute_result"
    }
   ],
   "source": [
    "#explorar dados categoricos\n",
    "#natureza_acidente\n",
    "dataset.groupby(['tipo']).size()"
   ]
  },
  {
   "cell_type": "code",
   "execution_count": 11,
   "id": "ae4ac37d-42ca-401a-a087-32de702470ec",
   "metadata": {},
   "outputs": [],
   "source": [
    "dataset.loc[dataset['tipo'].isin( ['NATUREZA','SANTO AMARO', 'SUBURBIO', 'COLIS�O', 'COLISAO']), 'tipo'] = \"COLISÃO\""
   ]
  },
  {
   "cell_type": "code",
   "execution_count": 12,
   "id": "cd45ba24-fe97-4d39-bdcc-8ba3357acc2c",
   "metadata": {},
   "outputs": [],
   "source": [
    "dataset.loc[dataset['tipo'] == 'COLIS�O COM CICLISTA', 'tipo'] = \"COLISÃO COM CICLISTA\"\n",
    "dataset.loc[dataset['tipo'] == 'COLIS�O FRONTAL', 'tipo'] = \"COLISÃO FRONTAL\"\n",
    "dataset.loc[dataset['tipo'] == 'COLIS�O TRASEIRA', 'tipo'] = \"COLISÃO TRASEIRA\""
   ]
  },
  {
   "cell_type": "code",
   "execution_count": 13,
   "id": "dc810067-cf62-45d7-a945-038d03283c23",
   "metadata": {},
   "outputs": [
    {
     "data": {
      "text/plain": [
       "4"
      ]
     },
     "execution_count": 13,
     "metadata": {},
     "output_type": "execute_result"
    }
   ],
   "source": [
    "dataset['tipo'].isnull().sum()"
   ]
  },
  {
   "cell_type": "code",
   "execution_count": 14,
   "id": "4718d4d5-fc9a-484e-8e16-fb3eb93906b3",
   "metadata": {},
   "outputs": [],
   "source": [
    "dataset['tipo'].fillna('COLISÃO', inplace=True)"
   ]
  },
  {
   "cell_type": "code",
   "execution_count": 15,
   "id": "92a3a681-224e-48eb-ae2e-32f2da750ab2",
   "metadata": {},
   "outputs": [
    {
     "data": {
      "text/plain": [
       "tipo\n",
       "ABALROAMENTO LONGITUDINAL     5540\n",
       "ABALROAMENTO TRANSVERSAL      2798\n",
       "ACID. DE PERCURSO              163\n",
       "ATROPELAMENTO                 1146\n",
       "ATROPELAMENTO ANIMAL            37\n",
       "CAPOTAMENTO                    111\n",
       "CHOQUE                         830\n",
       "CHOQUE OBJETO FIXO             398\n",
       "CHOQUE VEÍCULO PARADO          571\n",
       "COLISÃO                      33228\n",
       "COLISÃO COM CICLISTA           727\n",
       "COLISÃO FRONTAL                432\n",
       "COLISÃO TRASEIRA              3920\n",
       "ENGAVETAMENTO                  572\n",
       "TOMBAMENTO                     112\n",
       "dtype: int64"
      ]
     },
     "execution_count": 15,
     "metadata": {},
     "output_type": "execute_result"
    }
   ],
   "source": [
    "dataset.groupby(['tipo']).size()"
   ]
  },
  {
   "cell_type": "code",
   "execution_count": 16,
   "id": "c5dd56fd-1d25-41ef-b831-70103a499619",
   "metadata": {},
   "outputs": [
    {
     "data": {
      "text/plain": [
       "bairro\n",
       "AFLITOS                 273\n",
       "AFOGADOS               1972\n",
       "AGUA FRIA               112\n",
       "ALTO DO MANDU            29\n",
       "ALTO JOSE BONIFACIO      72\n",
       "                       ... \n",
       "TORROES                 348\n",
       "TOTO                     84\n",
       "VARZEA                  885\n",
       "VASCO DA GAMA           227\n",
       "ZUMBI                    53\n",
       "Length: 95, dtype: int64"
      ]
     },
     "execution_count": 16,
     "metadata": {},
     "output_type": "execute_result"
    }
   ],
   "source": [
    "dataset.groupby(['bairro']).size()"
   ]
  },
  {
   "cell_type": "code",
   "execution_count": 17,
   "id": "c4386ed8-d483-4c3f-b03a-f1af18d8f860",
   "metadata": {},
   "outputs": [
    {
     "data": {
      "text/html": [
       "<div>\n",
       "<style scoped>\n",
       "    .dataframe tbody tr th:only-of-type {\n",
       "        vertical-align: middle;\n",
       "    }\n",
       "\n",
       "    .dataframe tbody tr th {\n",
       "        vertical-align: top;\n",
       "    }\n",
       "\n",
       "    .dataframe thead th {\n",
       "        text-align: right;\n",
       "    }\n",
       "</style>\n",
       "<table border=\"1\" class=\"dataframe\">\n",
       "  <thead>\n",
       "    <tr style=\"text-align: right;\">\n",
       "      <th></th>\n",
       "      <th>data</th>\n",
       "      <th>hora</th>\n",
       "      <th>natureza_acidente</th>\n",
       "      <th>situacao</th>\n",
       "      <th>bairro</th>\n",
       "      <th>tipo</th>\n",
       "      <th>auto</th>\n",
       "      <th>moto</th>\n",
       "      <th>ciclom</th>\n",
       "      <th>ciclista</th>\n",
       "      <th>pedestre</th>\n",
       "      <th>onibus</th>\n",
       "      <th>caminhao</th>\n",
       "      <th>viatura</th>\n",
       "      <th>outros</th>\n",
       "      <th>vitimas</th>\n",
       "      <th>vitimasfatais</th>\n",
       "    </tr>\n",
       "  </thead>\n",
       "  <tbody>\n",
       "    <tr>\n",
       "      <th>0</th>\n",
       "      <td>01/01/2016</td>\n",
       "      <td>00,58,00</td>\n",
       "      <td>SEM VÍTIMA</td>\n",
       "      <td>FINALIZADA</td>\n",
       "      <td>IPUTINGA</td>\n",
       "      <td>COLISÃO</td>\n",
       "      <td>1</td>\n",
       "      <td>0</td>\n",
       "      <td>0</td>\n",
       "      <td>0</td>\n",
       "      <td>0</td>\n",
       "      <td>0</td>\n",
       "      <td>1</td>\n",
       "      <td>0</td>\n",
       "      <td>0</td>\n",
       "      <td>0</td>\n",
       "      <td>0</td>\n",
       "    </tr>\n",
       "    <tr>\n",
       "      <th>1</th>\n",
       "      <td>01/01/2016</td>\n",
       "      <td>01,23,00</td>\n",
       "      <td>SEM VÍTIMA</td>\n",
       "      <td>FINALIZADA</td>\n",
       "      <td>BOA VIAGEM</td>\n",
       "      <td>COLISÃO</td>\n",
       "      <td>2</td>\n",
       "      <td>0</td>\n",
       "      <td>0</td>\n",
       "      <td>0</td>\n",
       "      <td>0</td>\n",
       "      <td>0</td>\n",
       "      <td>0</td>\n",
       "      <td>0</td>\n",
       "      <td>0</td>\n",
       "      <td>0</td>\n",
       "      <td>0</td>\n",
       "    </tr>\n",
       "    <tr>\n",
       "      <th>2</th>\n",
       "      <td>01/01/2016</td>\n",
       "      <td>01,42,00</td>\n",
       "      <td>SEM VÍTIMA</td>\n",
       "      <td>CANCELADA</td>\n",
       "      <td>JORDAO</td>\n",
       "      <td>COLISÃO</td>\n",
       "      <td>2</td>\n",
       "      <td>0</td>\n",
       "      <td>0</td>\n",
       "      <td>0</td>\n",
       "      <td>0</td>\n",
       "      <td>0</td>\n",
       "      <td>0</td>\n",
       "      <td>0</td>\n",
       "      <td>0</td>\n",
       "      <td>0</td>\n",
       "      <td>0</td>\n",
       "    </tr>\n",
       "    <tr>\n",
       "      <th>3</th>\n",
       "      <td>01/01/2016</td>\n",
       "      <td>03,08,00</td>\n",
       "      <td>SEM VÍTIMA</td>\n",
       "      <td>FINALIZADA</td>\n",
       "      <td>IBURA</td>\n",
       "      <td>COLISÃO</td>\n",
       "      <td>2</td>\n",
       "      <td>0</td>\n",
       "      <td>0</td>\n",
       "      <td>0</td>\n",
       "      <td>0</td>\n",
       "      <td>0</td>\n",
       "      <td>0</td>\n",
       "      <td>0</td>\n",
       "      <td>0</td>\n",
       "      <td>0</td>\n",
       "      <td>0</td>\n",
       "    </tr>\n",
       "    <tr>\n",
       "      <th>4</th>\n",
       "      <td>01/01/2016</td>\n",
       "      <td>05,34,00</td>\n",
       "      <td>COM VÍTIMA</td>\n",
       "      <td>CANCELADA</td>\n",
       "      <td>PAISSANDU</td>\n",
       "      <td>CHOQUE</td>\n",
       "      <td>0</td>\n",
       "      <td>1</td>\n",
       "      <td>0</td>\n",
       "      <td>0</td>\n",
       "      <td>0</td>\n",
       "      <td>0</td>\n",
       "      <td>0</td>\n",
       "      <td>0</td>\n",
       "      <td>0</td>\n",
       "      <td>1</td>\n",
       "      <td>0</td>\n",
       "    </tr>\n",
       "  </tbody>\n",
       "</table>\n",
       "</div>"
      ],
      "text/plain": [
       "         data      hora natureza_acidente    situacao      bairro     tipo  \\\n",
       "0  01/01/2016  00,58,00        SEM VÍTIMA  FINALIZADA    IPUTINGA  COLISÃO   \n",
       "1  01/01/2016  01,23,00        SEM VÍTIMA  FINALIZADA  BOA VIAGEM  COLISÃO   \n",
       "2  01/01/2016  01,42,00        SEM VÍTIMA   CANCELADA      JORDAO  COLISÃO   \n",
       "3  01/01/2016  03,08,00        SEM VÍTIMA  FINALIZADA       IBURA  COLISÃO   \n",
       "4  01/01/2016  05,34,00        COM VÍTIMA   CANCELADA   PAISSANDU   CHOQUE   \n",
       "\n",
       "   auto  moto  ciclom  ciclista  pedestre  onibus  caminhao  viatura  outros  \\\n",
       "0     1     0       0         0         0       0         1        0       0   \n",
       "1     2     0       0         0         0       0         0        0       0   \n",
       "2     2     0       0         0         0       0         0        0       0   \n",
       "3     2     0       0         0         0       0         0        0       0   \n",
       "4     0     1       0         0         0       0         0        0       0   \n",
       "\n",
       "   vitimas  vitimasfatais  \n",
       "0        0              0  \n",
       "1        0              0  \n",
       "2        0              0  \n",
       "3        0              0  \n",
       "4        1              0  "
      ]
     },
     "execution_count": 17,
     "metadata": {},
     "output_type": "execute_result"
    }
   ],
   "source": [
    "#visulizar\n",
    "dataset.head()"
   ]
  },
  {
   "cell_type": "code",
   "execution_count": null,
   "id": "f1fd57ae-a859-44bf-8db5-ef80017c1947",
   "metadata": {},
   "outputs": [],
   "source": []
  }
 ],
 "metadata": {
  "kernelspec": {
   "display_name": "Python 3",
   "language": "python",
   "name": "python3"
  },
  "language_info": {
   "codemirror_mode": {
    "name": "ipython",
    "version": 3
   },
   "file_extension": ".py",
   "mimetype": "text/x-python",
   "name": "python",
   "nbconvert_exporter": "python",
   "pygments_lexer": "ipython3",
   "version": "3.8.8"
  }
 },
 "nbformat": 4,
 "nbformat_minor": 5
}
